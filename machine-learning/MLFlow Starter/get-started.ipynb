{
 "cells": [
  {
   "cell_type": "markdown",
   "metadata": {},
   "source": [
    "# MLFlow Tracking Server\n",
    "\n",
    "To initialise MLflow UI:\n",
    "> mlflow ui"
   ]
  },
  {
   "cell_type": "code",
   "execution_count": 6,
   "metadata": {},
   "outputs": [],
   "source": [
    "import mlflow\n",
    "mlflow.set_tracking_uri(\"http://127.0.0.1:5000\")"
   ]
  },
  {
   "cell_type": "code",
   "execution_count": 7,
   "metadata": {},
   "outputs": [
    {
     "name": "stderr",
     "output_type": "stream",
     "text": [
      "2025/05/20 18:57:40 INFO mlflow.tracking.fluent: Experiment with name 'check local tracking server' does not exist. Creating a new experiment.\n"
     ]
    },
    {
     "name": "stdout",
     "output_type": "stream",
     "text": [
      "🏃 View run youthful-yak-861 at: http://127.0.0.1:5000/#/experiments/558348636782275714/runs/2e7abba3cdeb4af6afe70af88f9f17ed\n",
      "🧪 View experiment at: http://127.0.0.1:5000/#/experiments/558348636782275714\n"
     ]
    }
   ],
   "source": [
    "mlflow.set_experiment(\"check local tracking server\")\n",
    "\n",
    "with mlflow.start_run():\n",
    "    mlflow.log_metric(\"accuracy\", 0.9)\n",
    "    mlflow.log_metric(\"Anas\", 4)"
   ]
  },
  {
   "cell_type": "code",
   "execution_count": 8,
   "metadata": {},
   "outputs": [
    {
     "name": "stdout",
     "output_type": "stream",
     "text": [
      "🏃 View run capricious-ape-933 at: http://127.0.0.1:5000/#/experiments/558348636782275714/runs/ef0be0b835fe41a187b852689ba3daba\n",
      "🧪 View experiment at: http://127.0.0.1:5000/#/experiments/558348636782275714\n"
     ]
    }
   ],
   "source": [
    "with mlflow.start_run():\n",
    "    mlflow.log_metric(\"accuracy1\", 1.9)\n",
    "    mlflow.log_metric(\"Anas1\", 5)"
   ]
  },
  {
   "cell_type": "code",
   "execution_count": null,
   "metadata": {},
   "outputs": [],
   "source": []
  }
 ],
 "metadata": {
  "kernelspec": {
   "display_name": ".venv",
   "language": "python",
   "name": "python3"
  },
  "language_info": {
   "codemirror_mode": {
    "name": "ipython",
    "version": 3
   },
   "file_extension": ".py",
   "mimetype": "text/x-python",
   "name": "python",
   "nbconvert_exporter": "python",
   "pygments_lexer": "ipython3",
   "version": "3.12.10"
  }
 },
 "nbformat": 4,
 "nbformat_minor": 2
}
